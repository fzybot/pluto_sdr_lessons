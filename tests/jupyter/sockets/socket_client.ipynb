{
 "cells": [
  {
   "cell_type": "code",
   "execution_count": 2,
   "metadata": {},
   "outputs": [],
   "source": [
    "import socket\n",
    " \n",
    "# Создаем сокет\n",
    "client_socket = socket.socket(socket.AF_INET, socket.SOCK_STREAM)\n",
    " \n",
    "# Подключаемся к серверу\n",
    "client_socket.connect(('localhost', 12345))\n",
    " \n",
    "# Отправляем данные серверу\n",
    "client_socket.sendall(b'Hello, server!')\n",
    " \n",
    "# Закрываем соединение\n",
    "client_socket.close()"
   ]
  }
 ],
 "metadata": {
  "kernelspec": {
   "display_name": "Python 3",
   "language": "python",
   "name": "python3"
  },
  "language_info": {
   "codemirror_mode": {
    "name": "ipython",
    "version": 3
   },
   "file_extension": ".py",
   "mimetype": "text/x-python",
   "name": "python",
   "nbconvert_exporter": "python",
   "pygments_lexer": "ipython3",
   "version": "3.10.12"
  }
 },
 "nbformat": 4,
 "nbformat_minor": 2
}
