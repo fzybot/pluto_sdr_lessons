{
 "cells": [
  {
   "cell_type": "code",
   "execution_count": 6,
   "metadata": {},
   "outputs": [],
   "source": [
    "%matplotlib inline\n",
    "\n",
    "import numpy as np\n",
    "import adi\n",
    "import matplotlib.pyplot as plt\n",
    "from scipy.signal import max_len_seq\n",
    "\n",
    "\n",
    "# Попробуем отправить просто 1 синусоиду и принять ее же\n",
    "sample_rate = 1e6 # Hz ширина полосы\n",
    "center_freq = 900e6# Hz\n",
    "num_samps = 10000 # number of samples per call to rx()\n",
    "\n",
    "sdr = adi.Pluto(\"ip:192.168.2.1\")\n",
    "sdr.sample_rate = int(sample_rate)\n",
    "\n",
    "# Config Rx\n",
    "sdr.rx_lo = int(center_freq)\n",
    "sdr.rx_rf_bandwidth = int(sample_rate)\n",
    "sdr.rx_buffer_size = num_samps\n",
    "sdr.gain_control_mode_chan0 = 'manual' #fast_attack, slow_attack\n",
    "sdr.rx_hardwaregain_chan0 = 30.0 # dB, increase to increase the receive gain, but be careful not to saturate the ADC\n",
    "\n",
    "sdr.tx_lo = int(center_freq)\n",
    "sdr.tx_cyclic_buffer = False"
   ]
  },
  {
   "cell_type": "code",
   "execution_count": null,
   "metadata": {},
   "outputs": [],
   "source": []
  },
  {
   "cell_type": "markdown",
   "metadata": {},
   "source": [
    "# Генерация сообщения на передачу"
   ]
  },
  {
   "cell_type": "code",
   "execution_count": 9,
   "metadata": {},
   "outputs": [
    {
     "name": "stdout",
     "output_type": "stream",
     "text": [
      "[ 1.  1.  1.  1.  1.  1.  1.  1. -1.  1.  1. -1.  1.  1. -1. -1.  1.  1.\n",
      "  1.  1. -1. -1. -1.  1.  1. -1.  1. -1.  1.  1.  1. -1. -1.  1. -1. -1.\n",
      " -1. -1.  1.  1.  1.  1. -1.  1.  1.  1. -1.  1.  1.  1.  1. -1.  1. -1.\n",
      " -1. -1. -1. -1.  1. -1. -1. -1. -1. -1. -1.  1. -1.  1.  1. -1.  1.  1.\n",
      "  1.  1.  1. -1. -1.  1.  1. -1.  1.  1.  1. -1. -1. -1.  1. -1.  1.  1.\n",
      "  1. -1.  1. -1. -1.  1.  1. -1. -1.  1. -1.  1. -1.  1. -1.  1. -1. -1.\n",
      "  1. -1. -1.  1. -1. -1. -1.  1. -1.  1. -1. -1. -1. -1.  1. -1. -1.  1.\n",
      "  1. -1.  1. -1. -1. -1.  1.  1.  1.  1.  1. -1.  1. -1.  1.  1. -1.  1.\n",
      " -1. -1.  1. -1.  1. -1. -1.  1.  1.  1.  1.  1.  1. -1. -1. -1. -1. -1.\n",
      " -1. -1.  1.  1. -1.  1.  1. -1.  1. -1.  1. -1. -1. -1.  1. -1. -1.  1.\n",
      " -1.  1.  1.  1.  1. -1. -1.  1. -1.  1.  1. -1. -1. -1.  1. -1. -1. -1.\n",
      "  1.  1. -1. -1.  1.  1. -1. -1. -1.  1.  1.  1. -1. -1. -1. -1.  1.  1.\n",
      " -1. -1. -1. -1. -1.  1.  1.  1. -1.  1.  1. -1. -1. -1. -1.  1. -1.  1.\n",
      " -1.  1.  1. -1. -1.  1. -1. -1.  1.  1.  1. -1. -1.  1.  1.  1. -1.  1.\n",
      " -1.  1. -1. -1.]\n"
     ]
    },
    {
     "ename": "NameError",
     "evalue": "name 'ns' is not defined",
     "output_type": "error",
     "traceback": [
      "\u001b[0;31m---------------------------------------------------------------------------\u001b[0m",
      "\u001b[0;31mNameError\u001b[0m                                 Traceback (most recent call last)",
      "Cell \u001b[0;32mIn[9], line 18\u001b[0m\n\u001b[1;32m     16\u001b[0m x_bb\u001b[38;5;241m=\u001b[39m(xi\u001b[38;5;241m+\u001b[39m\u001b[38;5;241m1\u001b[39mj\u001b[38;5;241m*\u001b[39mxq)\u001b[38;5;241m/\u001b[39mnp\u001b[38;5;241m.\u001b[39msqrt(\u001b[38;5;241m2\u001b[39m)\n\u001b[1;32m     17\u001b[0m N_input \u001b[38;5;241m=\u001b[39m \u001b[38;5;28mlen\u001b[39m(x_bb)\n\u001b[0;32m---> 18\u001b[0m xup \u001b[38;5;241m=\u001b[39m np\u001b[38;5;241m.\u001b[39mhstack((x_bb\u001b[38;5;241m.\u001b[39mreshape(N_input,\u001b[38;5;241m1\u001b[39m),np\u001b[38;5;241m.\u001b[39mzeros((N_input, \u001b[38;5;28mint\u001b[39m(\u001b[43mns\u001b[49m\u001b[38;5;241m-\u001b[39m\u001b[38;5;241m1\u001b[39m)))))\n\u001b[1;32m     19\u001b[0m xup\u001b[38;5;241m=\u001b[39m xup\u001b[38;5;241m.\u001b[39mflatten()\n\u001b[1;32m     20\u001b[0m x1 \u001b[38;5;241m=\u001b[39m signal\u001b[38;5;241m.\u001b[39mlfilter(b, \u001b[38;5;241m1\u001b[39m,xup) \n",
      "\u001b[0;31mNameError\u001b[0m: name 'ns' is not defined"
     ]
    }
   ],
   "source": [
    "message = \"Hello World\"\n",
    "byte_message = message.encode('ascii') # переводим строку в массив байт по ascii таблице\n",
    "print(byte_message)\n",
    "\n",
    "bit_message = []\n",
    "for i in range(len(byte_message)):\n",
    "    bit_message += bin(byte_message[i])[2:] # переводим байты в биты и добавляем в конец массива (list)\n",
    "bit_data = np.array(bit_message)\n"
   ]
  },
  {
   "cell_type": "code",
   "execution_count": null,
   "metadata": {},
   "outputs": [],
   "source": []
  },
  {
   "cell_type": "code",
   "execution_count": null,
   "metadata": {},
   "outputs": [],
   "source": [
    "sdr.tx(xiq)\n",
    "xrec1=sdr.rx()"
   ]
  }
 ],
 "metadata": {
  "kernelspec": {
   "display_name": "Python 3",
   "language": "python",
   "name": "python3"
  },
  "language_info": {
   "codemirror_mode": {
    "name": "ipython",
    "version": 3
   },
   "file_extension": ".py",
   "mimetype": "text/x-python",
   "name": "python",
   "nbconvert_exporter": "python",
   "pygments_lexer": "ipython3",
   "version": "3.10.12"
  }
 },
 "nbformat": 4,
 "nbformat_minor": 2
}
