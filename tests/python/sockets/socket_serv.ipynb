{
 "cells": [
  {
   "cell_type": "code",
   "execution_count": 3,
   "metadata": {},
   "outputs": [
    {
     "name": "stdout",
     "output_type": "stream",
     "text": [
      "Сервер запущен и ожидает подключений...\n",
      "Подключение установлено с ('127.0.0.1', 53668)\n",
      "Получены данные: b'Hello, server!'\n"
     ]
    }
   ],
   "source": [
    "import socket\n",
    " \n",
    "# Создаем сокет\n",
    "server_socket = socket.socket(socket.AF_INET, socket.SOCK_STREAM)\n",
    " \n",
    "# Привязываем сокет к IP-адресу и порту\n",
    "server_socket.bind(('localhost', 12346))\n",
    " \n",
    "# Слушаем входящие соединения\n",
    "server_socket.listen(1)\n",
    " \n",
    "print(\"Сервер запущен и ожидает подключений...\")\n",
    " \n",
    "# Принимаем входящее соединение\n",
    "client_socket, client_address = server_socket.accept()\n",
    "print(f\"Подключение установлено с {client_address}\")\n",
    " \n",
    "# Получаем данные от клиента\n",
    "data = client_socket.recv(1024)\n",
    "print(f\"Получены данные: {data}\")\n",
    " \n",
    "# Закрываем соединения\n",
    "client_socket.close()\n",
    "server_socket.close()"
   ]
  },
  {
   "cell_type": "code",
   "execution_count": null,
   "metadata": {},
   "outputs": [],
   "source": []
  }
 ],
 "metadata": {
  "kernelspec": {
   "display_name": "Python 3",
   "language": "python",
   "name": "python3"
  },
  "language_info": {
   "codemirror_mode": {
    "name": "ipython",
    "version": 3
   },
   "file_extension": ".py",
   "mimetype": "text/x-python",
   "name": "python",
   "nbconvert_exporter": "python",
   "pygments_lexer": "ipython3",
   "version": "3.10.12"
  }
 },
 "nbformat": 4,
 "nbformat_minor": 2
}
